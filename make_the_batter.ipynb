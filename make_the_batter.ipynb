{
  "nbformat": 4,
  "nbformat_minor": 0,
  "metadata": {
    "colab": {
      "name": "Copy of bake_the_batter.ipynb",
      "provenance": [],
      "collapsed_sections": []
    },
    "kernelspec": {
      "name": "python3",
      "display_name": "Python 3"
    },
    "language_info": {
      "name": "python"
    },
    "accelerator": "GPU",
    "gpuClass": "standard",
    "widgets": {
      "application/vnd.jupyter.widget-state+json": {
        "b88f041fbc3348f0a9dca65942c8c098": {
          "model_module": "@jupyter-widgets/controls",
          "model_name": "HBoxModel",
          "model_module_version": "1.5.0",
          "state": {
            "_dom_classes": [],
            "_model_module": "@jupyter-widgets/controls",
            "_model_module_version": "1.5.0",
            "_model_name": "HBoxModel",
            "_view_count": null,
            "_view_module": "@jupyter-widgets/controls",
            "_view_module_version": "1.5.0",
            "_view_name": "HBoxView",
            "box_style": "",
            "children": [
              "IPY_MODEL_3afc3182ffc24a009a05f46b75336d5e",
              "IPY_MODEL_d07db099dc804f9da8b6a337424287d5",
              "IPY_MODEL_9adb0b9b666a4d89a3a2acbaf0adcb7f"
            ],
            "layout": "IPY_MODEL_7dbb08600013482f82bd6da954cb1110"
          }
        },
        "3afc3182ffc24a009a05f46b75336d5e": {
          "model_module": "@jupyter-widgets/controls",
          "model_name": "HTMLModel",
          "model_module_version": "1.5.0",
          "state": {
            "_dom_classes": [],
            "_model_module": "@jupyter-widgets/controls",
            "_model_module_version": "1.5.0",
            "_model_name": "HTMLModel",
            "_view_count": null,
            "_view_module": "@jupyter-widgets/controls",
            "_view_module_version": "1.5.0",
            "_view_name": "HTMLView",
            "description": "",
            "description_tooltip": null,
            "layout": "IPY_MODEL_fcb50b505a6a43f0af4132f4bcc439e1",
            "placeholder": "​",
            "style": "IPY_MODEL_d6ac94992bdc453fb016defdafad4cf2",
            "value": "Dl Completed...:   0%"
          }
        },
        "d07db099dc804f9da8b6a337424287d5": {
          "model_module": "@jupyter-widgets/controls",
          "model_name": "FloatProgressModel",
          "model_module_version": "1.5.0",
          "state": {
            "_dom_classes": [],
            "_model_module": "@jupyter-widgets/controls",
            "_model_module_version": "1.5.0",
            "_model_name": "FloatProgressModel",
            "_view_count": null,
            "_view_module": "@jupyter-widgets/controls",
            "_view_module_version": "1.5.0",
            "_view_name": "ProgressView",
            "bar_style": "info",
            "description": "",
            "description_tooltip": null,
            "layout": "IPY_MODEL_d9cc8ae676eb49e8988fb69536fd30c7",
            "max": 1,
            "min": 0,
            "orientation": "horizontal",
            "style": "IPY_MODEL_a14cb1d39da24dfa9832206848af3790",
            "value": 0
          }
        },
        "9adb0b9b666a4d89a3a2acbaf0adcb7f": {
          "model_module": "@jupyter-widgets/controls",
          "model_name": "HTMLModel",
          "model_module_version": "1.5.0",
          "state": {
            "_dom_classes": [],
            "_model_module": "@jupyter-widgets/controls",
            "_model_module_version": "1.5.0",
            "_model_name": "HTMLModel",
            "_view_count": null,
            "_view_module": "@jupyter-widgets/controls",
            "_view_module_version": "1.5.0",
            "_view_name": "HTMLView",
            "description": "",
            "description_tooltip": null,
            "layout": "IPY_MODEL_38fe7fe6523c4438b15b050ad3d520d6",
            "placeholder": "​",
            "style": "IPY_MODEL_67b299bdb4fd41b2916a4a8ceae37687",
            "value": " 0/1 [00:46&lt;?, ? url/s]"
          }
        },
        "7dbb08600013482f82bd6da954cb1110": {
          "model_module": "@jupyter-widgets/base",
          "model_name": "LayoutModel",
          "model_module_version": "1.2.0",
          "state": {
            "_model_module": "@jupyter-widgets/base",
            "_model_module_version": "1.2.0",
            "_model_name": "LayoutModel",
            "_view_count": null,
            "_view_module": "@jupyter-widgets/base",
            "_view_module_version": "1.2.0",
            "_view_name": "LayoutView",
            "align_content": null,
            "align_items": null,
            "align_self": null,
            "border": null,
            "bottom": null,
            "display": null,
            "flex": null,
            "flex_flow": null,
            "grid_area": null,
            "grid_auto_columns": null,
            "grid_auto_flow": null,
            "grid_auto_rows": null,
            "grid_column": null,
            "grid_gap": null,
            "grid_row": null,
            "grid_template_areas": null,
            "grid_template_columns": null,
            "grid_template_rows": null,
            "height": null,
            "justify_content": null,
            "justify_items": null,
            "left": null,
            "margin": null,
            "max_height": null,
            "max_width": null,
            "min_height": null,
            "min_width": null,
            "object_fit": null,
            "object_position": null,
            "order": null,
            "overflow": null,
            "overflow_x": null,
            "overflow_y": null,
            "padding": null,
            "right": null,
            "top": null,
            "visibility": null,
            "width": null
          }
        },
        "fcb50b505a6a43f0af4132f4bcc439e1": {
          "model_module": "@jupyter-widgets/base",
          "model_name": "LayoutModel",
          "model_module_version": "1.2.0",
          "state": {
            "_model_module": "@jupyter-widgets/base",
            "_model_module_version": "1.2.0",
            "_model_name": "LayoutModel",
            "_view_count": null,
            "_view_module": "@jupyter-widgets/base",
            "_view_module_version": "1.2.0",
            "_view_name": "LayoutView",
            "align_content": null,
            "align_items": null,
            "align_self": null,
            "border": null,
            "bottom": null,
            "display": null,
            "flex": null,
            "flex_flow": null,
            "grid_area": null,
            "grid_auto_columns": null,
            "grid_auto_flow": null,
            "grid_auto_rows": null,
            "grid_column": null,
            "grid_gap": null,
            "grid_row": null,
            "grid_template_areas": null,
            "grid_template_columns": null,
            "grid_template_rows": null,
            "height": null,
            "justify_content": null,
            "justify_items": null,
            "left": null,
            "margin": null,
            "max_height": null,
            "max_width": null,
            "min_height": null,
            "min_width": null,
            "object_fit": null,
            "object_position": null,
            "order": null,
            "overflow": null,
            "overflow_x": null,
            "overflow_y": null,
            "padding": null,
            "right": null,
            "top": null,
            "visibility": null,
            "width": null
          }
        },
        "d6ac94992bdc453fb016defdafad4cf2": {
          "model_module": "@jupyter-widgets/controls",
          "model_name": "DescriptionStyleModel",
          "model_module_version": "1.5.0",
          "state": {
            "_model_module": "@jupyter-widgets/controls",
            "_model_module_version": "1.5.0",
            "_model_name": "DescriptionStyleModel",
            "_view_count": null,
            "_view_module": "@jupyter-widgets/base",
            "_view_module_version": "1.2.0",
            "_view_name": "StyleView",
            "description_width": ""
          }
        },
        "d9cc8ae676eb49e8988fb69536fd30c7": {
          "model_module": "@jupyter-widgets/base",
          "model_name": "LayoutModel",
          "model_module_version": "1.2.0",
          "state": {
            "_model_module": "@jupyter-widgets/base",
            "_model_module_version": "1.2.0",
            "_model_name": "LayoutModel",
            "_view_count": null,
            "_view_module": "@jupyter-widgets/base",
            "_view_module_version": "1.2.0",
            "_view_name": "LayoutView",
            "align_content": null,
            "align_items": null,
            "align_self": null,
            "border": null,
            "bottom": null,
            "display": null,
            "flex": null,
            "flex_flow": null,
            "grid_area": null,
            "grid_auto_columns": null,
            "grid_auto_flow": null,
            "grid_auto_rows": null,
            "grid_column": null,
            "grid_gap": null,
            "grid_row": null,
            "grid_template_areas": null,
            "grid_template_columns": null,
            "grid_template_rows": null,
            "height": null,
            "justify_content": null,
            "justify_items": null,
            "left": null,
            "margin": null,
            "max_height": null,
            "max_width": null,
            "min_height": null,
            "min_width": null,
            "object_fit": null,
            "object_position": null,
            "order": null,
            "overflow": null,
            "overflow_x": null,
            "overflow_y": null,
            "padding": null,
            "right": null,
            "top": null,
            "visibility": null,
            "width": "20px"
          }
        },
        "a14cb1d39da24dfa9832206848af3790": {
          "model_module": "@jupyter-widgets/controls",
          "model_name": "ProgressStyleModel",
          "model_module_version": "1.5.0",
          "state": {
            "_model_module": "@jupyter-widgets/controls",
            "_model_module_version": "1.5.0",
            "_model_name": "ProgressStyleModel",
            "_view_count": null,
            "_view_module": "@jupyter-widgets/base",
            "_view_module_version": "1.2.0",
            "_view_name": "StyleView",
            "bar_color": null,
            "description_width": ""
          }
        },
        "38fe7fe6523c4438b15b050ad3d520d6": {
          "model_module": "@jupyter-widgets/base",
          "model_name": "LayoutModel",
          "model_module_version": "1.2.0",
          "state": {
            "_model_module": "@jupyter-widgets/base",
            "_model_module_version": "1.2.0",
            "_model_name": "LayoutModel",
            "_view_count": null,
            "_view_module": "@jupyter-widgets/base",
            "_view_module_version": "1.2.0",
            "_view_name": "LayoutView",
            "align_content": null,
            "align_items": null,
            "align_self": null,
            "border": null,
            "bottom": null,
            "display": null,
            "flex": null,
            "flex_flow": null,
            "grid_area": null,
            "grid_auto_columns": null,
            "grid_auto_flow": null,
            "grid_auto_rows": null,
            "grid_column": null,
            "grid_gap": null,
            "grid_row": null,
            "grid_template_areas": null,
            "grid_template_columns": null,
            "grid_template_rows": null,
            "height": null,
            "justify_content": null,
            "justify_items": null,
            "left": null,
            "margin": null,
            "max_height": null,
            "max_width": null,
            "min_height": null,
            "min_width": null,
            "object_fit": null,
            "object_position": null,
            "order": null,
            "overflow": null,
            "overflow_x": null,
            "overflow_y": null,
            "padding": null,
            "right": null,
            "top": null,
            "visibility": null,
            "width": null
          }
        },
        "67b299bdb4fd41b2916a4a8ceae37687": {
          "model_module": "@jupyter-widgets/controls",
          "model_name": "DescriptionStyleModel",
          "model_module_version": "1.5.0",
          "state": {
            "_model_module": "@jupyter-widgets/controls",
            "_model_module_version": "1.5.0",
            "_model_name": "DescriptionStyleModel",
            "_view_count": null,
            "_view_module": "@jupyter-widgets/base",
            "_view_module_version": "1.2.0",
            "_view_name": "StyleView",
            "description_width": ""
          }
        },
        "42120e3e88694560a59ecc6646fa471a": {
          "model_module": "@jupyter-widgets/controls",
          "model_name": "HBoxModel",
          "model_module_version": "1.5.0",
          "state": {
            "_dom_classes": [],
            "_model_module": "@jupyter-widgets/controls",
            "_model_module_version": "1.5.0",
            "_model_name": "HBoxModel",
            "_view_count": null,
            "_view_module": "@jupyter-widgets/controls",
            "_view_module_version": "1.5.0",
            "_view_name": "HBoxView",
            "box_style": "",
            "children": [
              "IPY_MODEL_227144b94a4c474c87719e4794f70775",
              "IPY_MODEL_c4f3958a285a4dfb8b1facd6902b4809",
              "IPY_MODEL_6609ec153ba04869be49e36cf7c7344a"
            ],
            "layout": "IPY_MODEL_50064da19a874b708e42581371dba7b8"
          }
        },
        "227144b94a4c474c87719e4794f70775": {
          "model_module": "@jupyter-widgets/controls",
          "model_name": "HTMLModel",
          "model_module_version": "1.5.0",
          "state": {
            "_dom_classes": [],
            "_model_module": "@jupyter-widgets/controls",
            "_model_module_version": "1.5.0",
            "_model_name": "HTMLModel",
            "_view_count": null,
            "_view_module": "@jupyter-widgets/controls",
            "_view_module_version": "1.5.0",
            "_view_name": "HTMLView",
            "description": "",
            "description_tooltip": null,
            "layout": "IPY_MODEL_0cb57d9ed52b41f5922d363b1a014b34",
            "placeholder": "​",
            "style": "IPY_MODEL_409a199748f44283a14c00a5f7711a33",
            "value": "Dl Size...:  12%"
          }
        },
        "c4f3958a285a4dfb8b1facd6902b4809": {
          "model_module": "@jupyter-widgets/controls",
          "model_name": "FloatProgressModel",
          "model_module_version": "1.5.0",
          "state": {
            "_dom_classes": [],
            "_model_module": "@jupyter-widgets/controls",
            "_model_module_version": "1.5.0",
            "_model_name": "FloatProgressModel",
            "_view_count": null,
            "_view_module": "@jupyter-widgets/controls",
            "_view_module_version": "1.5.0",
            "_view_name": "ProgressView",
            "bar_style": "info",
            "description": "",
            "description_tooltip": null,
            "layout": "IPY_MODEL_8383c9ee108c469ca7e2faa06f1ccc3b",
            "max": 1,
            "min": 0,
            "orientation": "horizontal",
            "style": "IPY_MODEL_f80e28149bad469797fee56b16c65acb",
            "value": 1
          }
        },
        "6609ec153ba04869be49e36cf7c7344a": {
          "model_module": "@jupyter-widgets/controls",
          "model_name": "HTMLModel",
          "model_module_version": "1.5.0",
          "state": {
            "_dom_classes": [],
            "_model_module": "@jupyter-widgets/controls",
            "_model_module_version": "1.5.0",
            "_model_name": "HTMLModel",
            "_view_count": null,
            "_view_module": "@jupyter-widgets/controls",
            "_view_module_version": "1.5.0",
            "_view_name": "HTMLView",
            "description": "",
            "description_tooltip": null,
            "layout": "IPY_MODEL_02e3ad105f6741da93355d6597a57970",
            "placeholder": "​",
            "style": "IPY_MODEL_54e19c8a5ad44f629453c50eb86dd8c8",
            "value": " 589/4764 [00:46&lt;04:47, 14.52 MiB/s]"
          }
        },
        "50064da19a874b708e42581371dba7b8": {
          "model_module": "@jupyter-widgets/base",
          "model_name": "LayoutModel",
          "model_module_version": "1.2.0",
          "state": {
            "_model_module": "@jupyter-widgets/base",
            "_model_module_version": "1.2.0",
            "_model_name": "LayoutModel",
            "_view_count": null,
            "_view_module": "@jupyter-widgets/base",
            "_view_module_version": "1.2.0",
            "_view_name": "LayoutView",
            "align_content": null,
            "align_items": null,
            "align_self": null,
            "border": null,
            "bottom": null,
            "display": null,
            "flex": null,
            "flex_flow": null,
            "grid_area": null,
            "grid_auto_columns": null,
            "grid_auto_flow": null,
            "grid_auto_rows": null,
            "grid_column": null,
            "grid_gap": null,
            "grid_row": null,
            "grid_template_areas": null,
            "grid_template_columns": null,
            "grid_template_rows": null,
            "height": null,
            "justify_content": null,
            "justify_items": null,
            "left": null,
            "margin": null,
            "max_height": null,
            "max_width": null,
            "min_height": null,
            "min_width": null,
            "object_fit": null,
            "object_position": null,
            "order": null,
            "overflow": null,
            "overflow_x": null,
            "overflow_y": null,
            "padding": null,
            "right": null,
            "top": null,
            "visibility": null,
            "width": null
          }
        },
        "0cb57d9ed52b41f5922d363b1a014b34": {
          "model_module": "@jupyter-widgets/base",
          "model_name": "LayoutModel",
          "model_module_version": "1.2.0",
          "state": {
            "_model_module": "@jupyter-widgets/base",
            "_model_module_version": "1.2.0",
            "_model_name": "LayoutModel",
            "_view_count": null,
            "_view_module": "@jupyter-widgets/base",
            "_view_module_version": "1.2.0",
            "_view_name": "LayoutView",
            "align_content": null,
            "align_items": null,
            "align_self": null,
            "border": null,
            "bottom": null,
            "display": null,
            "flex": null,
            "flex_flow": null,
            "grid_area": null,
            "grid_auto_columns": null,
            "grid_auto_flow": null,
            "grid_auto_rows": null,
            "grid_column": null,
            "grid_gap": null,
            "grid_row": null,
            "grid_template_areas": null,
            "grid_template_columns": null,
            "grid_template_rows": null,
            "height": null,
            "justify_content": null,
            "justify_items": null,
            "left": null,
            "margin": null,
            "max_height": null,
            "max_width": null,
            "min_height": null,
            "min_width": null,
            "object_fit": null,
            "object_position": null,
            "order": null,
            "overflow": null,
            "overflow_x": null,
            "overflow_y": null,
            "padding": null,
            "right": null,
            "top": null,
            "visibility": null,
            "width": null
          }
        },
        "409a199748f44283a14c00a5f7711a33": {
          "model_module": "@jupyter-widgets/controls",
          "model_name": "DescriptionStyleModel",
          "model_module_version": "1.5.0",
          "state": {
            "_model_module": "@jupyter-widgets/controls",
            "_model_module_version": "1.5.0",
            "_model_name": "DescriptionStyleModel",
            "_view_count": null,
            "_view_module": "@jupyter-widgets/base",
            "_view_module_version": "1.2.0",
            "_view_name": "StyleView",
            "description_width": ""
          }
        },
        "8383c9ee108c469ca7e2faa06f1ccc3b": {
          "model_module": "@jupyter-widgets/base",
          "model_name": "LayoutModel",
          "model_module_version": "1.2.0",
          "state": {
            "_model_module": "@jupyter-widgets/base",
            "_model_module_version": "1.2.0",
            "_model_name": "LayoutModel",
            "_view_count": null,
            "_view_module": "@jupyter-widgets/base",
            "_view_module_version": "1.2.0",
            "_view_name": "LayoutView",
            "align_content": null,
            "align_items": null,
            "align_self": null,
            "border": null,
            "bottom": null,
            "display": null,
            "flex": null,
            "flex_flow": null,
            "grid_area": null,
            "grid_auto_columns": null,
            "grid_auto_flow": null,
            "grid_auto_rows": null,
            "grid_column": null,
            "grid_gap": null,
            "grid_row": null,
            "grid_template_areas": null,
            "grid_template_columns": null,
            "grid_template_rows": null,
            "height": null,
            "justify_content": null,
            "justify_items": null,
            "left": null,
            "margin": null,
            "max_height": null,
            "max_width": null,
            "min_height": null,
            "min_width": null,
            "object_fit": null,
            "object_position": null,
            "order": null,
            "overflow": null,
            "overflow_x": null,
            "overflow_y": null,
            "padding": null,
            "right": null,
            "top": null,
            "visibility": null,
            "width": "20px"
          }
        },
        "f80e28149bad469797fee56b16c65acb": {
          "model_module": "@jupyter-widgets/controls",
          "model_name": "ProgressStyleModel",
          "model_module_version": "1.5.0",
          "state": {
            "_model_module": "@jupyter-widgets/controls",
            "_model_module_version": "1.5.0",
            "_model_name": "ProgressStyleModel",
            "_view_count": null,
            "_view_module": "@jupyter-widgets/base",
            "_view_module_version": "1.2.0",
            "_view_name": "StyleView",
            "bar_color": null,
            "description_width": ""
          }
        },
        "02e3ad105f6741da93355d6597a57970": {
          "model_module": "@jupyter-widgets/base",
          "model_name": "LayoutModel",
          "model_module_version": "1.2.0",
          "state": {
            "_model_module": "@jupyter-widgets/base",
            "_model_module_version": "1.2.0",
            "_model_name": "LayoutModel",
            "_view_count": null,
            "_view_module": "@jupyter-widgets/base",
            "_view_module_version": "1.2.0",
            "_view_name": "LayoutView",
            "align_content": null,
            "align_items": null,
            "align_self": null,
            "border": null,
            "bottom": null,
            "display": null,
            "flex": null,
            "flex_flow": null,
            "grid_area": null,
            "grid_auto_columns": null,
            "grid_auto_flow": null,
            "grid_auto_rows": null,
            "grid_column": null,
            "grid_gap": null,
            "grid_row": null,
            "grid_template_areas": null,
            "grid_template_columns": null,
            "grid_template_rows": null,
            "height": null,
            "justify_content": null,
            "justify_items": null,
            "left": null,
            "margin": null,
            "max_height": null,
            "max_width": null,
            "min_height": null,
            "min_width": null,
            "object_fit": null,
            "object_position": null,
            "order": null,
            "overflow": null,
            "overflow_x": null,
            "overflow_y": null,
            "padding": null,
            "right": null,
            "top": null,
            "visibility": null,
            "width": null
          }
        },
        "54e19c8a5ad44f629453c50eb86dd8c8": {
          "model_module": "@jupyter-widgets/controls",
          "model_name": "DescriptionStyleModel",
          "model_module_version": "1.5.0",
          "state": {
            "_model_module": "@jupyter-widgets/controls",
            "_model_module_version": "1.5.0",
            "_model_name": "DescriptionStyleModel",
            "_view_count": null,
            "_view_module": "@jupyter-widgets/base",
            "_view_module_version": "1.2.0",
            "_view_name": "StyleView",
            "description_width": ""
          }
        },
        "76b27d4bb0fe4bd99ff5d2d954309642": {
          "model_module": "@jupyter-widgets/controls",
          "model_name": "HBoxModel",
          "model_module_version": "1.5.0",
          "state": {
            "_dom_classes": [],
            "_model_module": "@jupyter-widgets/controls",
            "_model_module_version": "1.5.0",
            "_model_name": "HBoxModel",
            "_view_count": null,
            "_view_module": "@jupyter-widgets/controls",
            "_view_module_version": "1.5.0",
            "_view_name": "HBoxView",
            "box_style": "",
            "children": [
              "IPY_MODEL_21282c2d40c54ed2b426f9bbd159a2b1",
              "IPY_MODEL_381e4915fbfa4dd7b6407dca81d75d03",
              "IPY_MODEL_c525e939ea81478ca5a19bd8d387c90f"
            ],
            "layout": "IPY_MODEL_e114cc12563147ffb308fe441571df9f"
          }
        },
        "21282c2d40c54ed2b426f9bbd159a2b1": {
          "model_module": "@jupyter-widgets/controls",
          "model_name": "HTMLModel",
          "model_module_version": "1.5.0",
          "state": {
            "_dom_classes": [],
            "_model_module": "@jupyter-widgets/controls",
            "_model_module_version": "1.5.0",
            "_model_name": "HTMLModel",
            "_view_count": null,
            "_view_module": "@jupyter-widgets/controls",
            "_view_module_version": "1.5.0",
            "_view_name": "HTMLView",
            "description": "",
            "description_tooltip": null,
            "layout": "IPY_MODEL_75f0ffdabe2c4e889b019c8d68c27459",
            "placeholder": "​",
            "style": "IPY_MODEL_062f4c86d46041c5ac9074d6ca416cab",
            "value": "Extraction completed...: "
          }
        },
        "381e4915fbfa4dd7b6407dca81d75d03": {
          "model_module": "@jupyter-widgets/controls",
          "model_name": "FloatProgressModel",
          "model_module_version": "1.5.0",
          "state": {
            "_dom_classes": [],
            "_model_module": "@jupyter-widgets/controls",
            "_model_module_version": "1.5.0",
            "_model_name": "FloatProgressModel",
            "_view_count": null,
            "_view_module": "@jupyter-widgets/controls",
            "_view_module_version": "1.5.0",
            "_view_name": "ProgressView",
            "bar_style": "info",
            "description": "",
            "description_tooltip": null,
            "layout": "IPY_MODEL_7e0e9b50d4564c90bdc53cbbde9a9a34",
            "max": 1,
            "min": 0,
            "orientation": "horizontal",
            "style": "IPY_MODEL_734f0090e7d746d8860c202052dbd0f8",
            "value": 0
          }
        },
        "c525e939ea81478ca5a19bd8d387c90f": {
          "model_module": "@jupyter-widgets/controls",
          "model_name": "HTMLModel",
          "model_module_version": "1.5.0",
          "state": {
            "_dom_classes": [],
            "_model_module": "@jupyter-widgets/controls",
            "_model_module_version": "1.5.0",
            "_model_name": "HTMLModel",
            "_view_count": null,
            "_view_module": "@jupyter-widgets/controls",
            "_view_module_version": "1.5.0",
            "_view_name": "HTMLView",
            "description": "",
            "description_tooltip": null,
            "layout": "IPY_MODEL_be426549e0b34c38a4cbb6aaa9a8c689",
            "placeholder": "​",
            "style": "IPY_MODEL_2f6ae20231f34f36a6d9b2330f734411",
            "value": " 0/0 [00:46&lt;?, ? file/s]"
          }
        },
        "e114cc12563147ffb308fe441571df9f": {
          "model_module": "@jupyter-widgets/base",
          "model_name": "LayoutModel",
          "model_module_version": "1.2.0",
          "state": {
            "_model_module": "@jupyter-widgets/base",
            "_model_module_version": "1.2.0",
            "_model_name": "LayoutModel",
            "_view_count": null,
            "_view_module": "@jupyter-widgets/base",
            "_view_module_version": "1.2.0",
            "_view_name": "LayoutView",
            "align_content": null,
            "align_items": null,
            "align_self": null,
            "border": null,
            "bottom": null,
            "display": null,
            "flex": null,
            "flex_flow": null,
            "grid_area": null,
            "grid_auto_columns": null,
            "grid_auto_flow": null,
            "grid_auto_rows": null,
            "grid_column": null,
            "grid_gap": null,
            "grid_row": null,
            "grid_template_areas": null,
            "grid_template_columns": null,
            "grid_template_rows": null,
            "height": null,
            "justify_content": null,
            "justify_items": null,
            "left": null,
            "margin": null,
            "max_height": null,
            "max_width": null,
            "min_height": null,
            "min_width": null,
            "object_fit": null,
            "object_position": null,
            "order": null,
            "overflow": null,
            "overflow_x": null,
            "overflow_y": null,
            "padding": null,
            "right": null,
            "top": null,
            "visibility": null,
            "width": null
          }
        },
        "75f0ffdabe2c4e889b019c8d68c27459": {
          "model_module": "@jupyter-widgets/base",
          "model_name": "LayoutModel",
          "model_module_version": "1.2.0",
          "state": {
            "_model_module": "@jupyter-widgets/base",
            "_model_module_version": "1.2.0",
            "_model_name": "LayoutModel",
            "_view_count": null,
            "_view_module": "@jupyter-widgets/base",
            "_view_module_version": "1.2.0",
            "_view_name": "LayoutView",
            "align_content": null,
            "align_items": null,
            "align_self": null,
            "border": null,
            "bottom": null,
            "display": null,
            "flex": null,
            "flex_flow": null,
            "grid_area": null,
            "grid_auto_columns": null,
            "grid_auto_flow": null,
            "grid_auto_rows": null,
            "grid_column": null,
            "grid_gap": null,
            "grid_row": null,
            "grid_template_areas": null,
            "grid_template_columns": null,
            "grid_template_rows": null,
            "height": null,
            "justify_content": null,
            "justify_items": null,
            "left": null,
            "margin": null,
            "max_height": null,
            "max_width": null,
            "min_height": null,
            "min_width": null,
            "object_fit": null,
            "object_position": null,
            "order": null,
            "overflow": null,
            "overflow_x": null,
            "overflow_y": null,
            "padding": null,
            "right": null,
            "top": null,
            "visibility": null,
            "width": null
          }
        },
        "062f4c86d46041c5ac9074d6ca416cab": {
          "model_module": "@jupyter-widgets/controls",
          "model_name": "DescriptionStyleModel",
          "model_module_version": "1.5.0",
          "state": {
            "_model_module": "@jupyter-widgets/controls",
            "_model_module_version": "1.5.0",
            "_model_name": "DescriptionStyleModel",
            "_view_count": null,
            "_view_module": "@jupyter-widgets/base",
            "_view_module_version": "1.2.0",
            "_view_name": "StyleView",
            "description_width": ""
          }
        },
        "7e0e9b50d4564c90bdc53cbbde9a9a34": {
          "model_module": "@jupyter-widgets/base",
          "model_name": "LayoutModel",
          "model_module_version": "1.2.0",
          "state": {
            "_model_module": "@jupyter-widgets/base",
            "_model_module_version": "1.2.0",
            "_model_name": "LayoutModel",
            "_view_count": null,
            "_view_module": "@jupyter-widgets/base",
            "_view_module_version": "1.2.0",
            "_view_name": "LayoutView",
            "align_content": null,
            "align_items": null,
            "align_self": null,
            "border": null,
            "bottom": null,
            "display": null,
            "flex": null,
            "flex_flow": null,
            "grid_area": null,
            "grid_auto_columns": null,
            "grid_auto_flow": null,
            "grid_auto_rows": null,
            "grid_column": null,
            "grid_gap": null,
            "grid_row": null,
            "grid_template_areas": null,
            "grid_template_columns": null,
            "grid_template_rows": null,
            "height": null,
            "justify_content": null,
            "justify_items": null,
            "left": null,
            "margin": null,
            "max_height": null,
            "max_width": null,
            "min_height": null,
            "min_width": null,
            "object_fit": null,
            "object_position": null,
            "order": null,
            "overflow": null,
            "overflow_x": null,
            "overflow_y": null,
            "padding": null,
            "right": null,
            "top": null,
            "visibility": null,
            "width": "20px"
          }
        },
        "734f0090e7d746d8860c202052dbd0f8": {
          "model_module": "@jupyter-widgets/controls",
          "model_name": "ProgressStyleModel",
          "model_module_version": "1.5.0",
          "state": {
            "_model_module": "@jupyter-widgets/controls",
            "_model_module_version": "1.5.0",
            "_model_name": "ProgressStyleModel",
            "_view_count": null,
            "_view_module": "@jupyter-widgets/base",
            "_view_module_version": "1.2.0",
            "_view_name": "StyleView",
            "bar_color": null,
            "description_width": ""
          }
        },
        "be426549e0b34c38a4cbb6aaa9a8c689": {
          "model_module": "@jupyter-widgets/base",
          "model_name": "LayoutModel",
          "model_module_version": "1.2.0",
          "state": {
            "_model_module": "@jupyter-widgets/base",
            "_model_module_version": "1.2.0",
            "_model_name": "LayoutModel",
            "_view_count": null,
            "_view_module": "@jupyter-widgets/base",
            "_view_module_version": "1.2.0",
            "_view_name": "LayoutView",
            "align_content": null,
            "align_items": null,
            "align_self": null,
            "border": null,
            "bottom": null,
            "display": null,
            "flex": null,
            "flex_flow": null,
            "grid_area": null,
            "grid_auto_columns": null,
            "grid_auto_flow": null,
            "grid_auto_rows": null,
            "grid_column": null,
            "grid_gap": null,
            "grid_row": null,
            "grid_template_areas": null,
            "grid_template_columns": null,
            "grid_template_rows": null,
            "height": null,
            "justify_content": null,
            "justify_items": null,
            "left": null,
            "margin": null,
            "max_height": null,
            "max_width": null,
            "min_height": null,
            "min_width": null,
            "object_fit": null,
            "object_position": null,
            "order": null,
            "overflow": null,
            "overflow_x": null,
            "overflow_y": null,
            "padding": null,
            "right": null,
            "top": null,
            "visibility": null,
            "width": null
          }
        },
        "2f6ae20231f34f36a6d9b2330f734411": {
          "model_module": "@jupyter-widgets/controls",
          "model_name": "DescriptionStyleModel",
          "model_module_version": "1.5.0",
          "state": {
            "_model_module": "@jupyter-widgets/controls",
            "_model_module_version": "1.5.0",
            "_model_name": "DescriptionStyleModel",
            "_view_count": null,
            "_view_module": "@jupyter-widgets/base",
            "_view_module_version": "1.2.0",
            "_view_name": "StyleView",
            "description_width": ""
          }
        }
      }
    }
  },
  "cells": [
    {
      "cell_type": "markdown",
      "source": [
        "[![Open In Colab](https://colab.research.google.com/assets/colab-badge.svg)](https://colab.research.google.com/github.com/ishandandekar/What_Am_I_Eating/blob/main/bake_the_batter.ipynb)"
      ],
      "metadata": {
        "id": "VDBIdZtyqTRf"
      }
    },
    {
      "cell_type": "markdown",
      "source": [
        "# What_Am_I_Eating\n",
        "👋Hello and welcome to the `bake_the_batter` notebook. This is the notebook used to create the models. I'll use methods such as transfer learning to get the `EfficientNetB0` model for the neural network. I'll get the data from tensorflow-datasets. If you want to replicate this project, you can use this notebook to make the models."
      ],
      "metadata": {
        "id": "WDMOZATxp0VS"
      }
    },
    {
      "cell_type": "markdown",
      "source": [
        "### Setting up the environment\n",
        "We'll need a GPU (which our kind Google will provide us), this will be required for tensorflow and mixed precision. We'll also need some helper functions to analyse the models."
      ],
      "metadata": {
        "id": "h2wv65zbIRgE"
      }
    },
    {
      "cell_type": "code",
      "source": [
        "# Importing tensorflow and some other libraries\n",
        "import tensorflow as tf\n",
        "import matplotlib.pyplot as plt\n",
        "import numpy as np\n",
        "\n",
        "!nvidia-smi -L"
      ],
      "metadata": {
        "colab": {
          "base_uri": "https://localhost:8080/"
        },
        "id": "tF3-WstGIPLy",
        "outputId": "aa407550-ab46-40c6-8052-08751cc4ce02"
      },
      "execution_count": 1,
      "outputs": [
        {
          "output_type": "stream",
          "name": "stdout",
          "text": [
            "GPU 0: Tesla T4 (UUID: GPU-6ba446f3-b29d-37d7-053b-f5d75fe4d6fb)\n"
          ]
        }
      ]
    },
    {
      "cell_type": "code",
      "source": [
        "# Downloading the helper functions\n",
        "!wget https://raw.githubusercontent.com/ishandandekar/What_Am_I_Eating/main/helper_functions.py\n",
        "\n",
        "from helper_functions import plot_loss_curves, show_random_samples"
      ],
      "metadata": {
        "colab": {
          "base_uri": "https://localhost:8080/"
        },
        "id": "ajfi7tEUIrAq",
        "outputId": "b5350ac2-aea3-49c5-8ed0-5cc37bfb6446"
      },
      "execution_count": 2,
      "outputs": [
        {
          "output_type": "stream",
          "name": "stdout",
          "text": [
            "--2022-07-04 14:33:49--  https://raw.githubusercontent.com/ishandandekar/What_Am_I_Eating/main/helper_functions.py\n",
            "Resolving raw.githubusercontent.com (raw.githubusercontent.com)... 185.199.108.133, 185.199.110.133, 185.199.109.133, ...\n",
            "Connecting to raw.githubusercontent.com (raw.githubusercontent.com)|185.199.108.133|:443... connected.\n",
            "HTTP request sent, awaiting response... 200 OK\n",
            "Length: 1448 (1.4K) [text/plain]\n",
            "Saving to: ‘helper_functions.py’\n",
            "\n",
            "helper_functions.py 100%[===================>]   1.41K  --.-KB/s    in 0s      \n",
            "\n",
            "2022-07-04 14:33:49 (13.6 MB/s) - ‘helper_functions.py’ saved [1448/1448]\n",
            "\n"
          ]
        }
      ]
    },
    {
      "cell_type": "markdown",
      "source": [
        "### Getting the data\n",
        "I used the Food 101 data to train the models. Although the dataset is available on [Kaggle](https://www.kaggle.com/datasets/dansbecker/food-101), I'll use it from tensorflow-datasets.  \n",
        "\n",
        "What is **TensorFlow Datasets**?\n",
        "A place for prepared and ready-to-use machine learning datasets.\n",
        "\n",
        "Why use TensorFlow Datasets?\n",
        "* Load data already in Tensors\n",
        "* Practice on well established datasets\n",
        "\n",
        "Why not use TensorFlow Datasets?\n",
        "* The datasets are static (they don't change, like your real-world datasets would)\n",
        "* Might not be suited for your particular problem (but great for experimenting)"
      ],
      "metadata": {
        "id": "KpIioGATI99n"
      }
    },
    {
      "cell_type": "code",
      "source": [
        "# Get the tensorflow-datasets library\n",
        "import tensorflow_datasets as tfds\n",
        "\n",
        "# Checking if Food 101 is in tensorflow-datasets catalog\n",
        "dataset_list = tfds.list_builders()\n",
        "print(f\"Is Food 101 in the dataset catalog: {'food101' in dataset_list}\")"
      ],
      "metadata": {
        "colab": {
          "base_uri": "https://localhost:8080/"
        },
        "id": "KUJUDniZI5sk",
        "outputId": "d1676fef-ef59-4e33-efc4-e5ef9e9a6291"
      },
      "execution_count": 3,
      "outputs": [
        {
          "output_type": "stream",
          "name": "stdout",
          "text": [
            "Is Food 101 in the dataset catalog: True\n"
          ]
        }
      ]
    },
    {
      "cell_type": "markdown",
      "source": [
        "Great! Now let's get the dataset. Tensorflow is kind to us, it already has the train and validation sets of the data. Hence, we don't need to split the data. It is a large dataset around 5 GBs of images. Please be careful while downloading the dataset.  \n",
        "> 💡**Note:** You can also add an additional argument in the `load` function to specify the directory. Check the documentation to know more. https://www.tensorflow.org/datasets/api_docs/python/tfds/load"
      ],
      "metadata": {
        "id": "ybsIFgiiMHC1"
      }
    },
    {
      "cell_type": "code",
      "source": [
        "# Load in tha data (takes 5-6 minutes in Google Colab)\n",
        "(train_data,test_data),ds_info = tfds.load(name=\"food101\",\n",
        "                                           split=[\"train\",\"validation\"],\n",
        "                                           shuffle_files=True,\n",
        "                                           as_supervised=True, # data gets returned in tuple format (data,label)\n",
        "                                           with_info=True)\n",
        "\n",
        "# Information about the data\n",
        "print(ds_info)"
      ],
      "metadata": {
        "colab": {
          "base_uri": "https://localhost:8080/",
          "height": 130,
          "referenced_widgets": [
            "b88f041fbc3348f0a9dca65942c8c098",
            "3afc3182ffc24a009a05f46b75336d5e",
            "d07db099dc804f9da8b6a337424287d5",
            "9adb0b9b666a4d89a3a2acbaf0adcb7f",
            "7dbb08600013482f82bd6da954cb1110",
            "fcb50b505a6a43f0af4132f4bcc439e1",
            "d6ac94992bdc453fb016defdafad4cf2",
            "d9cc8ae676eb49e8988fb69536fd30c7",
            "a14cb1d39da24dfa9832206848af3790",
            "38fe7fe6523c4438b15b050ad3d520d6",
            "67b299bdb4fd41b2916a4a8ceae37687",
            "42120e3e88694560a59ecc6646fa471a",
            "227144b94a4c474c87719e4794f70775",
            "c4f3958a285a4dfb8b1facd6902b4809",
            "6609ec153ba04869be49e36cf7c7344a",
            "50064da19a874b708e42581371dba7b8",
            "0cb57d9ed52b41f5922d363b1a014b34",
            "409a199748f44283a14c00a5f7711a33",
            "8383c9ee108c469ca7e2faa06f1ccc3b",
            "f80e28149bad469797fee56b16c65acb",
            "02e3ad105f6741da93355d6597a57970",
            "54e19c8a5ad44f629453c50eb86dd8c8",
            "76b27d4bb0fe4bd99ff5d2d954309642",
            "21282c2d40c54ed2b426f9bbd159a2b1",
            "381e4915fbfa4dd7b6407dca81d75d03",
            "c525e939ea81478ca5a19bd8d387c90f",
            "e114cc12563147ffb308fe441571df9f",
            "75f0ffdabe2c4e889b019c8d68c27459",
            "062f4c86d46041c5ac9074d6ca416cab",
            "7e0e9b50d4564c90bdc53cbbde9a9a34",
            "734f0090e7d746d8860c202052dbd0f8",
            "be426549e0b34c38a4cbb6aaa9a8c689",
            "2f6ae20231f34f36a6d9b2330f734411"
          ]
        },
        "id": "B-PNOEGNMJlR",
        "outputId": "a7fa6899-b0e0-492d-f27c-6f307cc07788"
      },
      "execution_count": null,
      "outputs": [
        {
          "output_type": "stream",
          "name": "stdout",
          "text": [
            "\u001b[1mDownloading and preparing dataset food101/2.0.0 (download: 4.65 GiB, generated: Unknown size, total: 4.65 GiB) to /root/tensorflow_datasets/food101/2.0.0...\u001b[0m\n"
          ]
        },
        {
          "output_type": "display_data",
          "data": {
            "text/plain": [
              "Dl Completed...: 0 url [00:00, ? url/s]"
            ],
            "application/vnd.jupyter.widget-view+json": {
              "version_major": 2,
              "version_minor": 0,
              "model_id": "b88f041fbc3348f0a9dca65942c8c098"
            }
          },
          "metadata": {}
        },
        {
          "output_type": "display_data",
          "data": {
            "text/plain": [
              "Dl Size...: 0 MiB [00:00, ? MiB/s]"
            ],
            "application/vnd.jupyter.widget-view+json": {
              "version_major": 2,
              "version_minor": 0,
              "model_id": "42120e3e88694560a59ecc6646fa471a"
            }
          },
          "metadata": {}
        },
        {
          "output_type": "display_data",
          "data": {
            "text/plain": [
              "Extraction completed...: 0 file [00:00, ? file/s]"
            ],
            "application/vnd.jupyter.widget-view+json": {
              "version_major": 2,
              "version_minor": 0,
              "model_id": "76b27d4bb0fe4bd99ff5d2d954309642"
            }
          },
          "metadata": {}
        }
      ]
    },
    {
      "cell_type": "markdown",
      "source": [
        "### Exploring the data  \n",
        "In this section, we'll go through the data, check if there are any discrepancies i.e. is the data labelled wrong? We'll also have to check the dimensions and shape of the data and make sure it is safe for building our neural network on top of it.  \n",
        "Let's get the class names. There 101 classes in the dataset. We'll see any 5 of those, to have a look at what we are dealing with."
      ],
      "metadata": {
        "id": "pahQ163HMibI"
      }
    },
    {
      "cell_type": "code",
      "source": [
        "class_names = class_names = ds_info.features[\"label\"].names\n",
        "class_names[:10]"
      ],
      "metadata": {
        "id": "nSokDAzeOwM1"
      },
      "execution_count": null,
      "outputs": []
    },
    {
      "cell_type": "code",
      "source": [
        "# Get random data images from the directory\n",
        "show_random_samples(dir_name=train_data, class_names=class_names)"
      ],
      "metadata": {
        "id": "iMwD34unPNqs"
      },
      "execution_count": null,
      "outputs": []
    },
    {
      "cell_type": "markdown",
      "source": [
        "Our images have random shape and unwanted datatype. Tensorflow works well with float datatype and our images have `uint8`. We'll have to make a function for preprocessing this data and converting to our desired format."
      ],
      "metadata": {
        "id": "GKZxEBBHT50X"
      }
    },
    {
      "cell_type": "code",
      "source": [
        "# Make a function for preprocessing images\n",
        "def preprocess_img(image,label,img_shape=224):\n",
        "  \"\"\"\n",
        "  Converts image datatype from 'uint8' -> 'float32'\n",
        "  image to [img_shape,img_shape,color_channels]\n",
        "  \"\"\"\n",
        "  image = tf.image.resize(image,[img_shape,img_shape])\n",
        "  return tf.cast(image,tf.float32), label"
      ],
      "metadata": {
        "id": "P7czeDyRTx3E"
      },
      "execution_count": null,
      "outputs": []
    },
    {
      "cell_type": "markdown",
      "source": [
        "Now that we have a function to process our data. Let's use the `map` function on our train and test data to format our images."
      ],
      "metadata": {
        "id": "L5j0rxkiU0VW"
      }
    },
    {
      "cell_type": "code",
      "source": [
        "# Map preprocessing function onto our training set\n",
        "train_data = train_data.map(map_func=preprocess_img, num_parallel_calls=tf.data.AUTOTUNE)\n",
        "\n",
        "# Shuffle train_data and turn it into batches and prefetch it\n",
        "train_data = train_data.shuffle(buffer_size=1000).batch(batch_size=32).prefetch(buffer_size=tf.data.AUTOTUNE)\n",
        "\n",
        "# Map preprocessing function to test data\n",
        "test_data = test_data.map(map_func=preprocess_img,num_parallel_calls=tf.data.AUTOTUNE).batch(batch_size=32).prefetch(tf.data.AUTOTUNE)"
      ],
      "metadata": {
        "id": "gyMTdCoIUpwN"
      },
      "execution_count": null,
      "outputs": []
    },
    {
      "cell_type": "markdown",
      "source": [
        "> 💡**Note:** These functions we used `batch` and `prefetch` will help us when we set the model to train. These functions will help us train the model faster. It optimizes the space and complexity immensely."
      ],
      "metadata": {
        "id": "prYDcWcAYjPX"
      }
    },
    {
      "cell_type": "markdown",
      "source": [
        "### Setup mixed precision for training\n",
        "First and foremost, for a deeper understanding of mized precision training, check out [Tensorflow guide](https://www.tensorflow.org/guide/mixed_precision) for mixed precision.  \n",
        "\n",
        "Mixed precision utilizes a combination of float32 and float16 data types to speed up model performance"
      ],
      "metadata": {
        "id": "Z10ojacMZDlr"
      }
    },
    {
      "cell_type": "code",
      "source": [
        "# Turn on mixed precision training\n",
        "from tensorflow.keras import mixed_precision\n",
        "mixed_precision.set_global_policy(\"mixed_float16\")"
      ],
      "metadata": {
        "id": "U5G4VKjuYxv8"
      },
      "execution_count": null,
      "outputs": []
    },
    {
      "cell_type": "markdown",
      "source": [
        "The model in the deployed web app does not use mixed precision!"
      ],
      "metadata": {
        "id": "fV_2s0IgZ8J_"
      }
    },
    {
      "cell_type": "markdown",
      "source": [
        "### Building the model\n",
        "This is where the best part comes in. Although it is fairly easy to make CNNs and fit the model, we'll use the `EfficientNetB0` model which is pre-trained on the [ImageNet](https://image-net.org/) dataset."
      ],
      "metadata": {
        "id": "gMmKsVpFaF53"
      }
    },
    {
      "cell_type": "code",
      "source": [
        "from tensorflow.keras import layers\n",
        "from tensorflow.keras.layers import RandomZoom,RandomFlip,RandomRotation,RandomHeight,RandomWidth\n",
        "from tensorflow.keras import Sequential\n",
        "\n",
        "# Create base model\n",
        "input_shape = (224,224,3)\n",
        "base_model = tf.keras.applications.EfficientNetB0(include_top=False)\n",
        "\n",
        "# This will help us to fine tune the model on our train set\n",
        "base_model.trainable=True\n",
        "\n",
        "# Setup data augmentation\n",
        "data_augmentation = Sequential(\n",
        "    [\n",
        "     RandomFlip(\"horizontal\"),\n",
        "     RandomRotation(0.2),\n",
        "     RandomHeight(0.2),\n",
        "     RandomWidth(0.2),\n",
        "     RandomZoom(0.2),\n",
        "    #  layers.Rescaling(1/255.0) # Resnet needs rescaling!\n",
        "    ],name=\"data_augmentation\"\n",
        ")\n",
        "\n",
        "# Create a functional model\n",
        "inputs = layers.Input(shape=input_shape, name=\"Input_layer\")\n",
        "\n",
        "# Note: EfficientNetBX models have rescaling built-in\n",
        "x = data_augmentation(inputs)\n",
        "x = base_model(x, training=False)\n",
        "x = layers.GlobalAveragePooling2D()(x)\n",
        "x = layers.Dense(len(class_names))(x)\n",
        "outputs = layers.Activation(\"softmax\",dtype=tf.float32,name=\"softmax_float32\")(x) # If using mixed precision add argument dtype=tf.float32\n",
        "model = tf.keras.Model(inputs,outputs)"
      ],
      "metadata": {
        "id": "th3ScTrEaDRR"
      },
      "execution_count": null,
      "outputs": []
    },
    {
      "cell_type": "code",
      "source": [
        "# Setting up callbacks\n",
        "early_stopping_callback = tf.keras.callbacks.EarlyStopping(monitor='val_accuracy',patience=3,restore_best_weights=True)\n",
        "\n",
        "checkpoint_path = \"model_checkpoint/fntd.ckpt\"\n",
        "model_checkpoint_callback = tf.keras.callbacks.ModelCheckpoint(filepath=checkpoint_path,monitor=\"val_accuracy\",save_best_only=True,save_weights_only=True,verbose=1)"
      ],
      "metadata": {
        "id": "lFwg3apRbZJb"
      },
      "execution_count": null,
      "outputs": []
    },
    {
      "cell_type": "markdown",
      "source": [
        "Maybe you can also add a learning rate callback too!"
      ],
      "metadata": {
        "id": "QOL3TzcIbeC3"
      }
    },
    {
      "cell_type": "code",
      "source": [
        "# Compile the model\n",
        "model.compile(loss=\"sparse_categorical_crossentropy\",\n",
        "              optimizer=tf.keras.optimizers.Adam(),\n",
        "              metrics=[\"accuracy\"])"
      ],
      "metadata": {
        "id": "zjlJS4fJbhLj"
      },
      "execution_count": null,
      "outputs": []
    },
    {
      "cell_type": "code",
      "source": [
        "# Fit the model\n",
        "history_fine_tuned_all = model.fit(train_data,\n",
        "                                   epochs=10,\n",
        "                                   steps_per_epoch=len(train_data),\n",
        "                                   validation_data=test_data,\n",
        "                                   validation_steps=int(0.15*len(test_data)),\n",
        "                                   callbacks=[model_checkpoint_callback,early_stopping_callback])"
      ],
      "metadata": {
        "id": "cALlcxO3bpAE"
      },
      "execution_count": null,
      "outputs": []
    },
    {
      "cell_type": "markdown",
      "source": [
        "> 💡**Note:** We'll only evaluate on 15% of our validation data, as it'll speed up the training process."
      ],
      "metadata": {
        "id": "oiWY5gmObsfD"
      }
    },
    {
      "cell_type": "markdown",
      "source": [
        "### Evaluating the model"
      ],
      "metadata": {
        "id": "aWNQfgdIc1FW"
      }
    },
    {
      "cell_type": "code",
      "source": [
        "# Evaluating the model on the whole test set\n",
        "fine_tuned_result = model.evaluate(test_data)\n",
        "fine_tuned_result"
      ],
      "metadata": {
        "id": "ug8DDkR_cdc9"
      },
      "execution_count": null,
      "outputs": []
    },
    {
      "cell_type": "code",
      "source": [
        "# Plotting the loss and accuracy of our model\n",
        "plot_loss_curves(history_fine_tuned_all)"
      ],
      "metadata": {
        "id": "jbhg-XpDcl1h"
      },
      "execution_count": null,
      "outputs": []
    },
    {
      "cell_type": "markdown",
      "source": [
        "### Save the model"
      ],
      "metadata": {
        "id": "oKAU14z6c9OY"
      }
    },
    {
      "cell_type": "code",
      "source": [
        "# Uncomment and run the cell\n",
        "# model.save(\"what_am_i_eating_model.h5\")"
      ],
      "metadata": {
        "id": "okbv3uWxcry0"
      },
      "execution_count": null,
      "outputs": []
    }
  ]
}