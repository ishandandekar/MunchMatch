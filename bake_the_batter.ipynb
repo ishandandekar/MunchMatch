{
  "nbformat": 4,
  "nbformat_minor": 0,
  "metadata": {
    "colab": {
      "name": "bake_the_batter.ipynb",
      "provenance": []
    },
    "kernelspec": {
      "name": "python3",
      "display_name": "Python 3"
    },
    "language_info": {
      "name": "python"
    }
  },
  "cells": [
    {
      "cell_type": "markdown",
      "source": [
        "[![Open In Colab](https://colab.research.google.com/assets/colab-badge.svg)](https://colab.research.google.com/github/googlecolab/colabtools/blob/master/notebooks/colab-github-demo.ipynb)"
      ],
      "metadata": {
        "id": "VDBIdZtyqTRf"
      }
    },
    {
      "cell_type": "markdown",
      "source": [
        "# What_Am_I_Eating\n",
        "👋Hello and welcome to the `bake_the_batter` notebook. This is the notebook used to create the models."
      ],
      "metadata": {
        "id": "WDMOZATxp0VS"
      }
    }
  ]
}